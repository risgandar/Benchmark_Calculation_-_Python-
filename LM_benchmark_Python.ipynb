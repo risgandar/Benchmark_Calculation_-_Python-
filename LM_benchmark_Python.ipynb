{
 "cells": [
  {
   "cell_type": "code",
   "execution_count": 1,
   "metadata": {},
   "outputs": [],
   "source": [
    "import pandas as pd\n",
    "import numpy as np\n",
    "import re as re"
   ]
  },
  {
   "cell_type": "code",
   "execution_count": 2,
   "metadata": {},
   "outputs": [],
   "source": [
    "df = pd.read_csv(\"C:/Users/SQL Server Management Studio/Carrier.csv\")"
   ]
  },
  {
   "cell_type": "code",
   "execution_count": 3,
   "metadata": {},
   "outputs": [
    {
     "data": {
      "text/plain": [
       "'5/1/2022'"
      ]
     },
     "execution_count": 3,
     "metadata": {},
     "output_type": "execute_result"
    }
   ],
   "source": [
    "# Check datatype of date col\n",
    "df.iloc[0].date_sub"
   ]
  },
  {
   "cell_type": "code",
   "execution_count": 4,
   "metadata": {},
   "outputs": [],
   "source": [
    "# Convert it to datetime\n",
    "df['date'] = pd.to_datetime(df.date_sub)"
   ]
  },
  {
   "cell_type": "code",
   "execution_count": 5,
   "metadata": {},
   "outputs": [
    {
     "data": {
      "text/plain": [
       "date_sub                          object\n",
       "LMSCarrierConsolidated            object\n",
       "LMShipClassID                    float64\n",
       "PO #                             float64\n",
       "Cost of PO                       float64\n",
       "IsCancelledFlag                  float64\n",
       "DirtyShipping_Flag               float64\n",
       "IsOwnAccountFlag                 float64\n",
       "date                      datetime64[ns]\n",
       "dtype: object"
      ]
     },
     "execution_count": 5,
     "metadata": {},
     "output_type": "execute_result"
    }
   ],
   "source": [
    "df.dtypes"
   ]
  },
  {
   "cell_type": "code",
   "execution_count": 6,
   "metadata": {},
   "outputs": [],
   "source": [
    "# Get the start and end dates for filtering\n",
    "today = pd.Timestamp('2022-10-28')\n",
    "period = today.to_period('M')\n",
    "start_date = (period - 2).to_timestamp()\n",
    "end_date = period.to_timestamp()"
   ]
  },
  {
   "cell_type": "code",
   "execution_count": 7,
   "metadata": {},
   "outputs": [
    {
     "data": {
      "text/plain": [
       "(Timestamp('2022-08-01 00:00:00'), Timestamp('2022-10-01 00:00:00'))"
      ]
     },
     "execution_count": 7,
     "metadata": {},
     "output_type": "execute_result"
    }
   ],
   "source": [
    "start_date, end_date"
   ]
  },
  {
   "cell_type": "code",
   "execution_count": 8,
   "metadata": {},
   "outputs": [],
   "source": [
    "# Filter by dates\n",
    "cond_s = df['date'] > start_date\n",
    "cond_e = df['date'] <= end_date\n",
    "cond1 = (\n",
    "    (df['IsCancelledFlag'] == 0) & \n",
    "    (df['DirtyShipping_Flag'] == 0) & \n",
    "    (df['IsOwnAccountFlag'] == 0) & \n",
    "    (df['LMShipClassID'] != 1)\n",
    ")\n",
    "cond2 = (\n",
    "    (df['LMSCarrierConsolidated'].str.startswith(\"LP BJ\")) | \n",
    "    (df['LMSCarrierConsolidated'].str.contains(\"LP Panth\")) | \n",
    "    (df['LMSCarrierConsolidated'].str.contains(\"LP XD\")) | \n",
    "    (df['LMSCarrierConsolidated'].str.contains(\"LP Arrow\"))\n",
    ")\n",
    "df_latest = df[cond_s & cond_e & cond1 & cond2]"
   ]
  },
  {
   "cell_type": "code",
   "execution_count": 9,
   "metadata": {},
   "outputs": [],
   "source": [
    "# Set datetime index and convert it into period index by month\n",
    "df_latest = df_latest.set_index('date').to_period('M')"
   ]
  },
  {
   "cell_type": "code",
   "execution_count": 10,
   "metadata": {},
   "outputs": [],
   "source": [
    "# Bring back index to column for groupby\n",
    "df3 = df_latest.reset_index()"
   ]
  },
  {
   "cell_type": "code",
   "execution_count": 11,
   "metadata": {},
   "outputs": [
    {
     "data": {
      "text/plain": [
       "date\n",
       "2022-08    157.455556\n",
       "2022-09    106.640000\n",
       "Freq: M, Name: Cost of PO, dtype: float64"
      ]
     },
     "execution_count": 11,
     "metadata": {},
     "output_type": "execute_result"
    }
   ],
   "source": [
    "# Group by month and calculate mean\n",
    "df3.groupby('date')['Cost of PO'].mean()"
   ]
  }
 ],
 "metadata": {
  "kernelspec": {
   "display_name": "env",
   "language": "python",
   "name": "python3"
  },
  "language_info": {
   "codemirror_mode": {
    "name": "ipython",
    "version": 3
   },
   "file_extension": ".py",
   "mimetype": "text/x-python",
   "name": "python",
   "nbconvert_exporter": "python",
   "pygments_lexer": "ipython3",
   "version": "3.10.2"
  },
  "orig_nbformat": 4,
  "vscode": {
   "interpreter": {
    "hash": "6ed2d21489639ec3f964ddc62726a75485f557ca525e7d1b5385bddaa7ea90fd"
   }
  }
 },
 "nbformat": 4,
 "nbformat_minor": 2
}
